{
 "cells": [
  {
   "cell_type": "markdown",
   "id": "0ad57f3d",
   "metadata": {},
   "source": [
    "## PDF to DOCX Converter"
   ]
  },
  {
   "cell_type": "code",
   "execution_count": 8,
   "id": "10d34598",
   "metadata": {},
   "outputs": [],
   "source": [
    "from pdf2docx import Converter\n",
    "import os"
   ]
  },
  {
   "cell_type": "code",
   "execution_count": 14,
   "id": "a4b2e2c7",
   "metadata": {},
   "outputs": [],
   "source": [
    "path_input = r\"D:\\PRO_IT_BRIDGE\\NLP\\NLP topics and working\\NLP Resume Project\\data_analyst\"\n",
    "path_output = r'Resumes_data_analyst'"
   ]
  },
  {
   "cell_type": "code",
   "execution_count": 15,
   "id": "ac3abc30",
   "metadata": {},
   "outputs": [
    {
     "name": "stderr",
     "output_type": "stream",
     "text": [
      "[INFO] Start to convert D:\\PRO_IT_BRIDGE\\NLP\\NLP topics and working\\NLP Resume Project\\data_analyst\\data-analyst-intern-resume-example.pdf\n",
      "[INFO] \u001b[1;36m[1/4] Opening document...\u001b[0m\n",
      "[INFO] \u001b[1;36m[2/4] Analyzing document...\u001b[0m\n"
     ]
    },
    {
     "name": "stdout",
     "output_type": "stream",
     "text": [
      "data-analyst-intern-resume-example\n"
     ]
    },
    {
     "name": "stderr",
     "output_type": "stream",
     "text": [
      "[INFO] \u001b[1;36m[3/4] Parsing pages...\u001b[0m\n",
      "[INFO] (1/1) Page 1\n",
      "[INFO] \u001b[1;36m[4/4] Creating pages...\u001b[0m\n",
      "[INFO] (1/1) Page 1\n",
      "[INFO] Terminated in 2.41s.\n",
      "[INFO] Start to convert D:\\PRO_IT_BRIDGE\\NLP\\NLP topics and working\\NLP Resume Project\\data_analyst\\data-analyst-resume-example.pdf\n",
      "[INFO] \u001b[1;36m[1/4] Opening document...\u001b[0m\n",
      "[INFO] \u001b[1;36m[2/4] Analyzing document...\u001b[0m\n"
     ]
    },
    {
     "name": "stdout",
     "output_type": "stream",
     "text": [
      "data-analyst-resume-example\n"
     ]
    },
    {
     "name": "stderr",
     "output_type": "stream",
     "text": [
      "[INFO] \u001b[1;36m[3/4] Parsing pages...\u001b[0m\n",
      "[INFO] (1/1) Page 1\n",
      "[INFO] \u001b[1;36m[4/4] Creating pages...\u001b[0m\n",
      "[INFO] (1/1) Page 1\n",
      "[INFO] Terminated in 1.64s.\n",
      "[INFO] Start to convert D:\\PRO_IT_BRIDGE\\NLP\\NLP topics and working\\NLP Resume Project\\data_analyst\\entry-level-data-analyst-resume-example.pdf\n",
      "[INFO] \u001b[1;36m[1/4] Opening document...\u001b[0m\n",
      "[INFO] \u001b[1;36m[2/4] Analyzing document...\u001b[0m\n"
     ]
    },
    {
     "name": "stdout",
     "output_type": "stream",
     "text": [
      "entry-level-data-analyst-resume-example\n"
     ]
    },
    {
     "name": "stderr",
     "output_type": "stream",
     "text": [
      "[INFO] \u001b[1;36m[3/4] Parsing pages...\u001b[0m\n",
      "[INFO] (1/1) Page 1\n",
      "[INFO] \u001b[1;36m[4/4] Creating pages...\u001b[0m\n",
      "[INFO] (1/1) Page 1\n",
      "[INFO] Terminated in 3.90s.\n",
      "[INFO] Start to convert D:\\PRO_IT_BRIDGE\\NLP\\NLP topics and working\\NLP Resume Project\\data_analyst\\entry-level-risk-adjustment-data-analyst-resume-example.pdf\n",
      "[INFO] \u001b[1;36m[1/4] Opening document...\u001b[0m\n",
      "[INFO] \u001b[1;36m[2/4] Analyzing document...\u001b[0m\n"
     ]
    },
    {
     "name": "stdout",
     "output_type": "stream",
     "text": [
      "entry-level-risk-adjustment-data-analyst-resume-example\n"
     ]
    },
    {
     "name": "stderr",
     "output_type": "stream",
     "text": [
      "[INFO] \u001b[1;36m[3/4] Parsing pages...\u001b[0m\n",
      "[INFO] (1/1) Page 1\n",
      "[INFO] \u001b[1;36m[4/4] Creating pages...\u001b[0m\n",
      "[INFO] (1/1) Page 1\n",
      "[INFO] Terminated in 1.43s.\n",
      "[INFO] Start to convert D:\\PRO_IT_BRIDGE\\NLP\\NLP topics and working\\NLP Resume Project\\data_analyst\\junior-data-analyst-resume-example.pdf\n",
      "[INFO] \u001b[1;36m[1/4] Opening document...\u001b[0m\n",
      "[INFO] \u001b[1;36m[2/4] Analyzing document...\u001b[0m\n"
     ]
    },
    {
     "name": "stdout",
     "output_type": "stream",
     "text": [
      "junior-data-analyst-resume-example\n"
     ]
    },
    {
     "name": "stderr",
     "output_type": "stream",
     "text": [
      "[INFO] \u001b[1;36m[3/4] Parsing pages...\u001b[0m\n",
      "[INFO] (1/1) Page 1\n",
      "[INFO] \u001b[1;36m[4/4] Creating pages...\u001b[0m\n",
      "[INFO] (1/1) Page 1\n",
      "[INFO] Terminated in 4.05s.\n"
     ]
    }
   ],
   "source": [
    "# Create the output directory if it doesn't exist\n",
    "if not os.path.exists(path_output):\n",
    "    os.makedirs(path_output)\n",
    "    \n",
    "for file in os.listdir(path_input):\n",
    "    if file.endswith('.pdf'):\n",
    "        final = os.path.join(path_input, file)\n",
    "        cv = Converter(final)\n",
    "        basename = os.path.splitext(file)[0]\n",
    "        print(basename)\n",
    "        cv.convert(path_output + '/' + basename+'.docx', start=0, end=None)\n",
    "        cv.close()"
   ]
  },
  {
   "cell_type": "code",
   "execution_count": null,
   "id": "ae199c22",
   "metadata": {},
   "outputs": [],
   "source": []
  }
 ],
 "metadata": {
  "kernelspec": {
   "display_name": "Python 3 (ipykernel)",
   "language": "python",
   "name": "python3"
  },
  "language_info": {
   "codemirror_mode": {
    "name": "ipython",
    "version": 3
   },
   "file_extension": ".py",
   "mimetype": "text/x-python",
   "name": "python",
   "nbconvert_exporter": "python",
   "pygments_lexer": "ipython3",
   "version": "3.11.5"
  }
 },
 "nbformat": 4,
 "nbformat_minor": 5
}
